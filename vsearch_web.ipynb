{
 "cells": [
  {
   "cell_type": "code",
   "execution_count": 17,
   "metadata": {},
   "outputs": [],
   "source": [
    "from flask import Flask, render_template, request, redirect \n",
    "from vsearch import search4letters\n",
    "\n",
    "app = Flask(__name__)\n",
    "\n",
    "@app.route('/search', methods=['POST'])\n",
    "def do_search() -> 'html':\n",
    "    phrase = request.form['phrase']\n",
    "    letters = request.form['letters']\n",
    "    title = 'Here are you results:'\n",
    "    results = str(search4letters(phrase, letters))\n",
    "    return render_template('results.html',\n",
    "                           the_phrase=phrase,\n",
    "                           the_letters=letters,\n",
    "                           the_title=title,\n",
    "                           the_results=results,)\n",
    "@app.route('/')\n",
    "@app.route('/entry')\n",
    "def entry_page() -> 'html':\n",
    "    return render_template('entry.html', \n",
    "                           the_title='Welcome to SeArCh4Latters on the Web!!')\n"
   ]
  },
  {
   "cell_type": "code",
   "execution_count": 18,
   "metadata": {},
   "outputs": [
    {
     "name": "stdout",
     "output_type": "stream",
     "text": [
      " * Serving Flask app \"__main__\" (lazy loading)\n",
      " * Environment: production\n",
      "\u001b[31m   WARNING: This is a development server. Do not use it in a production deployment.\u001b[0m\n",
      "\u001b[2m   Use a production WSGI server instead.\u001b[0m\n",
      " * Debug mode: off\n"
     ]
    },
    {
     "name": "stderr",
     "output_type": "stream",
     "text": [
      " * Running on http://127.0.0.1:5000/ (Press CTRL+C to quit)\n",
      "127.0.0.1 - - [04/Apr/2020 23:44:35] \"\u001b[37mGET / HTTP/1.1\u001b[0m\" 200 -\n",
      "127.0.0.1 - - [04/Apr/2020 23:44:39] \"\u001b[37mPOST /search HTTP/1.1\u001b[0m\" 200 -\n",
      "127.0.0.1 - - [04/Apr/2020 23:45:21] \"\u001b[37mGET / HTTP/1.1\u001b[0m\" 200 -\n",
      "127.0.0.1 - - [04/Apr/2020 23:45:26] \"\u001b[37mPOST /search HTTP/1.1\u001b[0m\" 200 -\n"
     ]
    }
   ],
   "source": [
    "if __name__ == '__main__':\n",
    "    app.run()"
   ]
  },
  {
   "cell_type": "code",
   "execution_count": null,
   "metadata": {},
   "outputs": [],
   "source": []
  }
 ],
 "metadata": {
  "kernelspec": {
   "display_name": "Python 3",
   "language": "python",
   "name": "python3"
  },
  "language_info": {
   "codemirror_mode": {
    "name": "ipython",
    "version": 3
   },
   "file_extension": ".py",
   "mimetype": "text/x-python",
   "name": "python",
   "nbconvert_exporter": "python",
   "pygments_lexer": "ipython3",
   "version": "3.6.9"
  }
 },
 "nbformat": 4,
 "nbformat_minor": 2
}
